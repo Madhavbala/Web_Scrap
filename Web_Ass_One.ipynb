{
 "cells": [
  {
   "cell_type": "code",
   "execution_count": 1,
   "id": "9e88368f-a6c2-4f53-81a3-6f7cf8eef04c",
   "metadata": {
    "tags": []
   },
   "outputs": [
    {
     "name": "stdout",
     "output_type": "stream",
     "text": [
      "Requirement already satisfied: selenium in c:\\users\\systems\\anaconda3\\lib\\site-packages (4.16.0)Note: you may need to restart the kernel to use updated packages.\n",
      "\n",
      "Requirement already satisfied: urllib3[socks]<3,>=1.26 in c:\\users\\systems\\anaconda3\\lib\\site-packages (from selenium) (1.26.16)\n",
      "Requirement already satisfied: trio~=0.17 in c:\\users\\systems\\anaconda3\\lib\\site-packages (from selenium) (0.23.2)\n",
      "Requirement already satisfied: trio-websocket~=0.9 in c:\\users\\systems\\anaconda3\\lib\\site-packages (from selenium) (0.11.1)\n",
      "Requirement already satisfied: certifi>=2021.10.8 in c:\\users\\systems\\anaconda3\\lib\\site-packages (from selenium) (2023.11.17)\n",
      "Requirement already satisfied: attrs>=20.1.0 in c:\\users\\systems\\anaconda3\\lib\\site-packages (from trio~=0.17->selenium) (23.1.0)\n",
      "Requirement already satisfied: sortedcontainers in c:\\users\\systems\\anaconda3\\lib\\site-packages (from trio~=0.17->selenium) (2.4.0)\n",
      "Requirement already satisfied: idna in c:\\users\\systems\\anaconda3\\lib\\site-packages (from trio~=0.17->selenium) (3.4)\n",
      "Requirement already satisfied: outcome in c:\\users\\systems\\anaconda3\\lib\\site-packages (from trio~=0.17->selenium) (1.3.0.post0)\n",
      "Collecting sniffio>=1.3.0 (from trio~=0.17->selenium)\n",
      "  Using cached sniffio-1.3.0-py3-none-any.whl (10 kB)\n",
      "Requirement already satisfied: cffi>=1.14 in c:\\users\\systems\\anaconda3\\lib\\site-packages (from trio~=0.17->selenium) (1.15.1)\n",
      "Requirement already satisfied: wsproto>=0.14 in c:\\users\\systems\\anaconda3\\lib\\site-packages (from trio-websocket~=0.9->selenium) (1.2.0)\n",
      "Requirement already satisfied: PySocks!=1.5.7,<2.0,>=1.5.6 in c:\\users\\systems\\anaconda3\\lib\\site-packages (from urllib3[socks]<3,>=1.26->selenium) (1.7.1)\n",
      "Requirement already satisfied: pycparser in c:\\users\\systems\\anaconda3\\lib\\site-packages (from cffi>=1.14->trio~=0.17->selenium) (2.21)\n",
      "Requirement already satisfied: h11<1,>=0.9.0 in c:\\users\\systems\\anaconda3\\lib\\site-packages (from wsproto>=0.14->trio-websocket~=0.9->selenium) (0.14.0)\n",
      "Installing collected packages: sniffio\n",
      "  Attempting uninstall: sniffio\n",
      "    Found existing installation: sniffio 1.2.0\n",
      "    Uninstalling sniffio-1.2.0:\n",
      "      Successfully uninstalled sniffio-1.2.0\n",
      "Successfully installed sniffio-1.3.0\n"
     ]
    }
   ],
   "source": [
    "pip install selenium"
   ]
  },
  {
   "cell_type": "markdown",
   "id": "2f33e068-adb3-4675-b082-eb57975e7b20",
   "metadata": {},
   "source": [
    "#### Libraries"
   ]
  },
  {
   "cell_type": "code",
   "execution_count": 1,
   "id": "ba1c9561-ba40-471b-98b1-d5adbfde2bf6",
   "metadata": {
    "tags": []
   },
   "outputs": [],
   "source": [
    "import numpy as np\n",
    "import pandas as pd\n",
    "import matplotlib.pyplot as plt\n",
    "import seaborn as sns\n",
    "\n",
    "import re\n",
    "import requests\n",
    "from bs4 import BeautifulSoup\n",
    "from selenium import webdriver\n",
    "\n",
    "import time"
   ]
  },
  {
   "cell_type": "code",
   "execution_count": 61,
   "id": "a674c245-0905-4fcc-b35c-03e1708183db",
   "metadata": {
    "tags": []
   },
   "outputs": [
    {
     "data": {
      "text/plain": [
       "200"
      ]
     },
     "execution_count": 61,
     "metadata": {},
     "output_type": "execute_result"
    }
   ],
   "source": [
    "URL = 'https://www.flipkart.com/electric-scooters-store?fm=neo%2Fmerchandising&iid=M_eeb5744f-6603-4eac-b400-0e0b33a8ec33_1_372UD5BXDFYS_MC.9QSXFO403TP1&otracker=hp_rich_navigation_2_1.navigationCard.RICH_NAVIGATION_Two%2BWheelers~Electric%2BVehicles_9QSXFO403TP1&otracker1=hp_rich_navigation_PINNED_neo%2Fmerchandising_NA_NAV_EXPANDABLE_navigationCard_cc_2_L1_view-all&cid=9QSXFO403TP1'\n",
    "page = requests.get(URL)\n",
    "page.status_code"
   ]
  },
  {
   "cell_type": "code",
   "execution_count": 16,
   "id": "c0c4917c-51fc-4a1e-a55e-f45e9cec063d",
   "metadata": {
    "tags": []
   },
   "outputs": [],
   "source": [
    "soup = BeautifulSoup(page.content, 'html.parser')       "
   ]
  },
  {
   "cell_type": "code",
   "execution_count": 62,
   "id": "4ba0c737-4ae9-42b6-ab63-a267df6c7c42",
   "metadata": {
    "tags": []
   },
   "outputs": [
    {
     "data": {
      "text/plain": [
       "'1. Hero DESTINI PRIME Booking ...'"
      ]
     },
     "execution_count": 62,
     "metadata": {},
     "output_type": "execute_result"
    }
   ],
   "source": [
    "name = soup.find('div', class_ = '_1W9f5C')\n",
    "name.text"
   ]
  },
  {
   "cell_type": "code",
   "execution_count": 63,
   "id": "faa497f4-1929-43f6-b33e-ede8cef5e2b9",
   "metadata": {},
   "outputs": [
    {
     "data": {
      "text/plain": [
       "'4.3'"
      ]
     },
     "execution_count": 63,
     "metadata": {},
     "output_type": "execute_result"
    }
   ],
   "source": [
    "rating = soup.find('div', class_ = '_3LWZlK')\n",
    "rating.text"
   ]
  },
  {
   "cell_type": "code",
   "execution_count": 55,
   "id": "8753daa8-2b2a-4821-a89c-927c58e58928",
   "metadata": {},
   "outputs": [
    {
     "data": {
      "text/plain": [
       "'374 Ratings&53 Reviews'"
      ]
     },
     "execution_count": 55,
     "metadata": {},
     "output_type": "execute_result"
    }
   ],
   "source": [
    "rating_review = soup.find('span', class_ = '_34hpFu')\n",
    "rating_review.text"
   ]
  },
  {
   "cell_type": "code",
   "execution_count": 53,
   "id": "d75bc8c5-662b-4b4a-9c66-c817b1e1266d",
   "metadata": {},
   "outputs": [
    {
     "data": {
      "text/plain": [
       "'₹75,469'"
      ]
     },
     "execution_count": 53,
     "metadata": {},
     "output_type": "execute_result"
    }
   ],
   "source": [
    "price = soup.find('div', class_ = '_30jeq3 UMT9wN')\n",
    "price.text"
   ]
  },
  {
   "cell_type": "code",
   "execution_count": 30,
   "id": "10dae863-e488-470b-aaa0-70c65842ac2c",
   "metadata": {},
   "outputs": [
    {
     "data": {
      "text/plain": [
       "'Displacement: 124.6 ccBrake Front: DrumTire Type: Tubeless'"
      ]
     },
     "execution_count": 30,
     "metadata": {},
     "output_type": "execute_result"
    }
   ],
   "source": [
    "features = soup.find('ul', class_ = '_1Sq2Fs')\n",
    "features.text"
   ]
  },
  {
   "cell_type": "code",
   "execution_count": 45,
   "id": "16ed3d4e-2eb1-4e35-b5a3-b51e6ee47080",
   "metadata": {},
   "outputs": [
    {
     "data": {
      "text/plain": [
       "'Brilliant'"
      ]
     },
     "execution_count": 45,
     "metadata": {},
     "output_type": "execute_result"
    }
   ],
   "source": [
    "helpful_review = soup.find('p', class_ = '_2-N8zT')\n",
    "helpful_review.text"
   ]
  },
  {
   "cell_type": "code",
   "execution_count": 44,
   "id": "bea1f52e-f258-4e28-9324-8ba30e84e755",
   "metadata": {
    "tags": []
   },
   "outputs": [
    {
     "data": {
      "text/plain": [
       "'It was my first experience and trust for purchasing a bike on Flipkart and its really amazing 😍 experience and faster delivery.Everybody should try to purc...Read full review'"
      ]
     },
     "execution_count": 44,
     "metadata": {},
     "output_type": "execute_result"
    }
   ],
   "source": [
    "helpful_review_desc = soup.find('div', class_ = 't-ZTKy')\n",
    "helpful_review_desc.text"
   ]
  },
  {
   "cell_type": "code",
   "execution_count": 49,
   "id": "d2ba7948-942d-45c7-ace8-39bed4d913b7",
   "metadata": {},
   "outputs": [
    {
     "ename": "AttributeError",
     "evalue": "'NoneType' object has no attribute 'text'",
     "output_type": "error",
     "traceback": [
      "\u001b[1;31m---------------------------------------------------------------------------\u001b[0m",
      "\u001b[1;31mAttributeError\u001b[0m                            Traceback (most recent call last)",
      "Cell \u001b[1;32mIn[49], line 2\u001b[0m\n\u001b[0;32m      1\u001b[0m recent_review \u001b[38;5;241m=\u001b[39m soup\u001b[38;5;241m.\u001b[39mfind(\u001b[38;5;124m'\u001b[39m\u001b[38;5;124mrow\u001b[39m\u001b[38;5;124m'\u001b[39m)\n\u001b[1;32m----> 2\u001b[0m \u001b[43mrecent_review\u001b[49m\u001b[38;5;241;43m.\u001b[39;49m\u001b[43mtext\u001b[49m\n",
      "\u001b[1;31mAttributeError\u001b[0m: 'NoneType' object has no attribute 'text'"
     ]
    }
   ],
   "source": [
    "recent_review = soup.find('row')\n",
    "recent_review.text"
   ]
  },
  {
   "cell_type": "code",
   "execution_count": null,
   "id": "f2d45791-2354-4e7d-ad82-7b5fdcbc4442",
   "metadata": {},
   "outputs": [],
   "source": []
  },
  {
   "cell_type": "code",
   "execution_count": null,
   "id": "259df8c5-fc5a-4278-9d96-b243b4369057",
   "metadata": {},
   "outputs": [],
   "source": []
  },
  {
   "cell_type": "code",
   "execution_count": null,
   "id": "20c80d5f-365d-48d8-a28c-3ec742316339",
   "metadata": {},
   "outputs": [],
   "source": []
  },
  {
   "cell_type": "code",
   "execution_count": null,
   "id": "20551c37-5923-41b4-96c3-ad7d21fb3719",
   "metadata": {},
   "outputs": [],
   "source": []
  },
  {
   "cell_type": "code",
   "execution_count": null,
   "id": "bd083de7-3105-4d5a-9db7-fd2beb63a7e7",
   "metadata": {},
   "outputs": [],
   "source": []
  },
  {
   "cell_type": "code",
   "execution_count": null,
   "id": "0dd20853-56cb-4c65-a86d-a00d28bd6ad9",
   "metadata": {},
   "outputs": [],
   "source": []
  },
  {
   "cell_type": "code",
   "execution_count": null,
   "id": "b72a14d7-a66d-4567-8496-0e6747d2617c",
   "metadata": {},
   "outputs": [],
   "source": []
  }
 ],
 "metadata": {
  "kernelspec": {
   "display_name": "Python 3 (ipykernel)",
   "language": "python",
   "name": "python3"
  },
  "language_info": {
   "codemirror_mode": {
    "name": "ipython",
    "version": 3
   },
   "file_extension": ".py",
   "mimetype": "text/x-python",
   "name": "python",
   "nbconvert_exporter": "python",
   "pygments_lexer": "ipython3",
   "version": "3.11.5"
  }
 },
 "nbformat": 4,
 "nbformat_minor": 5
}
